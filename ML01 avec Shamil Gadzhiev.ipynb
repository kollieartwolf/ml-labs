{
 "cells": [
  {
   "cell_type": "markdown",
   "metadata": {},
   "source": [
    "# Машинное обучение. Примеры и разборы. Лабораторная работа 1."
   ]
  },
  {
   "cell_type": "markdown",
   "metadata": {},
   "source": [
    "## Пример первый. Поиск закономерности.\n",
    "\n",
    "Пример взят [отсюда](https://neurohive.io/ru/tutorial/prostaja-nejronnaja-set-python/).\n",
    "\n",
    "Данные для обучения: четыре примера с результатами.\n",
    "\n",
    "Результат: вероятность того, что следующая последовательность будет соответствовать правилам выбора (будет из той же серии последовательностей, и т.п.).\n",
    "\n",
    "Сеть имеет ошибку: при вводе трёх нулей все веса равны нулю, и итоговый выход всегда равен 0.5"
   ]
  },
  {
   "cell_type": "code",
   "execution_count": 8,
   "metadata": {},
   "outputs": [],
   "source": [
    "from numpy import exp, array, random, dot\n",
    "\n",
    "# вводные данные: последовательности\n",
    "training_set_inputs = array([[0, 0, 1], [1, 1, 1], [1, 0, 1], [0, 1, 1]])\n",
    "\n",
    "# вводные данные: результат проверки того, построена эта последовательность по заданным правилам или нет\n",
    "training_set_outputs = array([[0, 1, 1, 0]]).T\n",
    "\n",
    "# инициализация генератора случайных чисел - для генерации случайных весов нейронов\n",
    "random.seed(1)\n",
    "\n",
    "# вес может быть от -1 до 1\n",
    "synaptic_weights = 2 * random.random((3, 1)) - 1 \n",
    "\n",
    "# количество итераций повтора и подбора весов нейронной сети таким образом, \n",
    "# чтобы её выход соответствовал training_set_outputs\n",
    "for iteration in range(10000):\n",
    "    output = 1 / (1 + exp(-(dot(training_set_inputs, synaptic_weights))))\n",
    "    synaptic_weights += dot(training_set_inputs.T, (training_set_outputs - output) * output * (1 - output))"
   ]
  },
  {
   "cell_type": "code",
   "execution_count": 10,
   "metadata": {},
   "outputs": [
    {
     "name": "stdout",
     "output_type": "stream",
     "text": [
      "[0.5]\n"
     ]
    }
   ],
   "source": [
    "# теперь ищем вероятность того, что [1, 0, 0] построена по заданным правилам\n",
    "print(1 / (1 + exp(-(dot(array([0, 0, 0]), synaptic_weights)))))"
   ]
  },
  {
   "cell_type": "code",
   "execution_count": 3,
   "metadata": {},
   "outputs": [
    {
     "name": "stdout",
     "output_type": "stream",
     "text": [
      "Введите три числа последовательности в одну строку: 0 1 0\n",
      "[0.44822538]\n"
     ]
    }
   ],
   "source": [
    "print(1 / (1 + exp(-(dot(array(list(map(int, input(\"Введите три числа последовательности в одну строку: \")\n",
    "                                        .split()))), synaptic_weights)))))"
   ]
  },
  {
   "cell_type": "code",
   "execution_count": 4,
   "metadata": {},
   "outputs": [],
   "source": [
    "from numpy import exp, array, random, dot\n",
    "\n",
    "class SimpleModel:\n",
    "    def __init__(self, training_set_inputs, training_set_outputs):\n",
    "        self.training_set_inputs = training_set_inputs\n",
    "        self.training_set_outputs = training_set_outputs\n",
    "        random.seed(1)\n",
    "        self.synaptic_weights = 2 * random.random((len(training_set_inputs[0]), 1)) - 1\n",
    "        print('Нейронная сеть инициализирована.')\n",
    "        \n",
    "    def sigmoid(self, set_inputs):\n",
    "        return 1 / (1 + exp(-(dot(set_inputs, self.synaptic_weights))))\n",
    "        \n",
    "    def learn(self, iterations):\n",
    "        for iteration in range(iterations):\n",
    "            output = self.sigmoid(self.training_set_inputs)\n",
    "            self.synaptic_weights += dot(self.training_set_inputs.T, \n",
    "                                    (self.training_set_outputs - output) * output * (1 - output))\n",
    "        print(f'Нейронная сеть обучена на {iterations} итерациях.')"
   ]
  },
  {
   "cell_type": "code",
   "execution_count": 5,
   "metadata": {},
   "outputs": [
    {
     "name": "stdout",
     "output_type": "stream",
     "text": [
      "Нейронная сеть инициализирована.\n",
      "Нейронная сеть обучена на 10000 итерациях.\n",
      "[0.99993704]\n"
     ]
    }
   ],
   "source": [
    "# вводные данные: последовательности\n",
    "training_set_inputs = array([[0, 0, 1], [1, 1, 1], [1, 0, 1], [0, 1, 1]])\n",
    "\n",
    "# вводные данные: результат проверки того, построена эта последовательность по заданным правилам или нет\n",
    "training_set_outputs = array([[0, 1, 1, 0]]).T\n",
    "\n",
    "model = SimpleModel(training_set_inputs, training_set_outputs)\n",
    "model.learn(10000)\n",
    "print(model.sigmoid([1, 0, 0]))"
   ]
  },
  {
   "cell_type": "markdown",
   "metadata": {},
   "source": [
    "## Пример второй. Два слоя нейронной сети и алгоритм обратного распространения ошибок на том же примере.\n",
    "\n",
    "Пример взят [отсюда](https://habr.com/ru/post/271563/).\n",
    "\n",
    "Здесь решается проблема с вводом трёх нулей: вероятность становится меньше половины."
   ]
  },
  {
   "cell_type": "code",
   "execution_count": 11,
   "metadata": {},
   "outputs": [],
   "source": [
    "X = array([ [0,0,1],[1,1,1],[1,0,1],[0,1,1] ])\n",
    "y = array([[0,1,1,0]]).T\n",
    "syn0 = 2*random.random((3,4)) - 1 # слой первый\n",
    "syn1 = 2*random.random((4,1)) - 1 # слой второй\n",
    "for j in range(60000):\n",
    "    l1 = 1/(1+exp(-(dot(X,syn0))))\n",
    "    l2 = 1/(1+exp(-(dot(l1,syn1))))\n",
    "    l2_delta = (y - l2)*(l2*(1-l2))\n",
    "    l1_delta = l2_delta.dot(syn1.T) * (l1 * (1-l1))\n",
    "    syn1 += l1.T.dot(l2_delta)\n",
    "    syn0 += X.T.dot(l1_delta)"
   ]
  },
  {
   "cell_type": "code",
   "execution_count": 12,
   "metadata": {},
   "outputs": [
    {
     "name": "stdout",
     "output_type": "stream",
     "text": [
      "[0.12648418]\n"
     ]
    }
   ],
   "source": [
    "print(1/(1+exp(-(dot(1/(1+exp(-(dot([0, 0, 0],syn0)))),syn1)))))"
   ]
  },
  {
   "cell_type": "markdown",
   "metadata": {},
   "source": [
    "## Пример третий. Определение оптимального чая.\n",
    "\n",
    "> Определить оптимальный чай для человека. <br><br>\n",
    "Входные параметры: <br>\n",
    "• Температура на улице (-100 – 100°С) <br>\n",
    "• Температура в доме (-50 – 50°С) :) <br> \n",
    "• Время суток (00:00 – 23:59) <br>\n",
    "• Месяц, число, день недели (пн, вт, ср, чт, пт, сб, вс) <br>\n",
    "• Темперамент человека (холерик, флегматик,сангвиник, меланхолик) <br>\n",
    "• Настроение человека (радость в единицах от 0 до 10) <br><br>\n",
    "Ответ нейронной сети: <br>\n",
    "• Тип чая (черный, зеленый, красный, ...) <br>\n",
    "• Температура (0–120°С) <br>\n",
    "• Обьем (20–500мл) <br><br>\n",
    "Для обучения использовать датасет с открытых источников, а также эксперименты над собой и близкими.\n",
    "\n",
    "**Пример взят из Telegram, мы слегка его упростили:**\n",
    "\n",
    "• Температура на улице (-20 – 20°С) <br>\n",
    "• Температура в доме (-20 – 25°С) <br>\n",
    "• Время суток (00 – 23) <br>\n",
    "• День недели (0 - чётный, 1 - нечётный) <br>\n",
    "• Темперамент человека (холерик, флегматик, сангвиник, меланхолик) <br>\n",
    "• Настроение человека (радость в единицах от 0 до 10) <br><br>\n",
    "Ответ нейронной сети: <br>\n",
    "• Тип чая (черный, зеленый, красный) <br>\n",
    "• Температура (0 – 100°С) <br>\n",
    "\n",
    "**Затем нам понадобилось сменить диапазон у данных (все данные должны равномерно распределить диапазон от 0 до 1).**"
   ]
  },
  {
   "cell_type": "code",
   "execution_count": 1,
   "metadata": {},
   "outputs": [],
   "source": [
    "# функция преобразования диапазона\n",
    "def rearrange(array, old_min, old_max, new_min, new_max):\n",
    "    for index in range(len(array)): \n",
    "        array[index] = ( (array[index] - old_min) / (old_max - old_min) ) * (new_max - new_min) + new_min \n",
    "    return array"
   ]
  },
  {
   "cell_type": "markdown",
   "metadata": {},
   "source": [
    "Затем мы загрузили данные в таблицу в редактор таблиц и сохранили как \"Текст CSV\". Данные приведены ниже:"
   ]
  },
  {
   "cell_type": "code",
   "execution_count": 6,
   "metadata": {},
   "outputs": [],
   "source": [
    "from numpy import array\n",
    "\n",
    "inputs = array([[0.2  , 0.84 , 0.52 , 0.   , 0.66 , 0.6  ],\n",
    "       [0.5  , 0.84 , 0.43 , 1.   , 0.33 , 0.   ],\n",
    "       [0.   , 0.71 , 0.47 , 0.   , 0.   , 0.   ],\n",
    "       [0.925, 0.82 , 0.52 , 1.   , 1.   , 0.1  ],\n",
    "       [0.975, 0.97 , 0.52 , 0.   , 1.   , 0.4  ],\n",
    "       [0.225, 0.66 , 0.78 , 1.   , 0.66 , 0.6  ],\n",
    "       [0.   , 0.64 , 0.6  , 0.   , 0.66 , 0.   ],\n",
    "       [0.8  , 0.35 , 0.56 , 1.   , 0.33 , 0.7  ],\n",
    "       [0.2  , 0.4  , 0.69 , 0.   , 0.   , 0.2  ]])\n",
    "\n",
    "outputs = array([[1. , 0.5],\n",
    "       [1. , 0.8],\n",
    "       [0. , 0.7],\n",
    "       [1. , 0.5],\n",
    "       [1. , 0.5],\n",
    "       [0. , 0.9],\n",
    "       [0. , 0.8],\n",
    "       [0.5, 0.9],\n",
    "       [0. , 0.4]])"
   ]
  },
  {
   "cell_type": "markdown",
   "metadata": {},
   "source": [
    "Создадим класс модели:"
   ]
  },
  {
   "cell_type": "code",
   "execution_count": 7,
   "metadata": {},
   "outputs": [],
   "source": [
    "import pandas as pd\n",
    "import numpy as np\n",
    "import time\n",
    "\n",
    "class TeaModel:\n",
    "    # статичные методы\n",
    "    def rearrangeSet(dataset):\n",
    "        rearranged_dataset = [np.array() * len(dataset)]\n",
    "        for array_index in len(dataset):\n",
    "            print(f'Преобразование датасета {array_index}.')\n",
    "            for column in len(dataset[array_index][0]):\n",
    "                old_min, old_max = map(float, \n",
    "                                       input(f'Введите диапазоны данных {column} ' +\n",
    "                                             'столбца (минимум и максимум) через пробел: ')\n",
    "                                       .split())\n",
    "                rearranged_dataset[array_index].append(\n",
    "                    TeaModel.rearrange(\n",
    "                        dataset[array_index].T[column], \n",
    "                        old_min, \n",
    "                        old_max))\n",
    "            rearranged_dataset[array_index] = rearranged_dataset[array_index].T\n",
    "        return rearranged_dataset\n",
    "    \n",
    "    def rearrange(array, old_min, old_max, new_min = 0, new_max = 1):\n",
    "        for index in range(len(array)): \n",
    "            array[index] = ((array[index] - old_min) / (old_max - old_min)) * (new_max - new_min) + new_min \n",
    "        return array\n",
    "    \n",
    "    # основной API\n",
    "    def __init__(self, \n",
    "                 filename, \n",
    "                 number_of_expected_results, \n",
    "                 isRearranged = True, # данные уже преобразованы в диапазоны от 0 до 1?\n",
    "                 isTrained = False    # нужно ли обучать модель, или пользователь подгрузит данные сам?\n",
    "                ):\n",
    "        print('Модель подбора идеального чая. Авторы: Шамиль Гаджиев и Клем Титов.')\n",
    "        if isTrained:\n",
    "            print('Прежде чем использовать модель, переопределите данные (layer1 и layer2, ' +\n",
    "                  'или используйте метод setLayers(layer1, layer2)).')\n",
    "            return\n",
    "        dataset = pd.read_csv(filename).rename_axis('ID').values\n",
    "        self.training_inputs = dataset.T[ : - number_of_expected_results ].T\n",
    "        self.training_outputs = dataset.T[ - number_of_expected_results : ].T\n",
    "        if not isRearranged:\n",
    "            self.training_inputs, self.training_outputs = TeaModel.rearrangeSet([self.training_inputs,\n",
    "                                                                                 self.training_outputs])\n",
    "        if input('Вывести API? [n/y] ') == 'y':\n",
    "            print('\\tМетоды:')\n",
    "            print('\\t\\ttrain(epochs, logEvery) - обучает нейронную сеть с заданным числом эпох')\n",
    "            print('\\t\\tgetResult(inputs_array, isRearranged) - получает вывод нейросети на входные данные')\n",
    "            print('\\t\\timode() - интерактивный режим ввода')\n",
    "            print('\\t\\tsetLayers(layer1, layer2) - загружает два обученных слоя нейросети.')\n",
    "        \n",
    "    def train(self, epochs = 10000, logEvery = -1):\n",
    "        print('Обучение сети.')\n",
    "        np.random.seed(int(time.time()))\n",
    "        self.layer1 = 2 * np.random.random((len(self.training_inputs[0]),len(self.training_inputs))) - 1\n",
    "        self.layer2 = 2 * np.random.random((len(self.training_outputs), len(self.training_outputs[0]))) - 1\n",
    "        for epoch in range(epochs):\n",
    "            l1 = 1 / (1 + np.exp(-(np.dot(self.training_inputs, self.layer1))))\n",
    "            l2 = 1 / (1 + np.exp(-(np.dot(l1, self.layer2))))\n",
    "            l2_delta = (self.training_outputs - l2) * (l2 * (1 - l2))\n",
    "            l1_delta = l2_delta.dot(self.layer2.T) * (l1 * (1 - l1))\n",
    "            self.layer2 += l1.T.dot(l2_delta)\n",
    "            self.layer1 += self.training_inputs.T.dot(l1_delta)\n",
    "            if (epoch + 1) % logEvery == 0:\n",
    "                print(f'Эпоха {epoch}')\n",
    "                print('l1: ')\n",
    "                print(l1)\n",
    "                print()\n",
    "                print('l2: ')\n",
    "                print(l2)\n",
    "                print()\n",
    "                print('l1_delta: ')\n",
    "                print(l1_delta)\n",
    "                print()\n",
    "                print('l2_delta: ')\n",
    "                print(l2_delta)\n",
    "                \n",
    "    def getResult(self, inputs_array, isRearranged = True):\n",
    "        if not isRearranged:\n",
    "            inputs_array = TeaModel.rearrangeSet([inputs_array])[0]\n",
    "        return (1 / \n",
    "                (1 + \n",
    "                 np.exp(-(np.dot(1 / \n",
    "                                 (1 + \n",
    "                                  np.exp(-(np.dot(inputs_array, \n",
    "                                                  self.layer1)))), \n",
    "                                 self.layer2)))))\n",
    "    \n",
    "    def imode():\n",
    "        pass\n",
    "    \n",
    "    def setLayers(self, layer1, layer2):\n",
    "        self.layer1 = layer1\n",
    "        self.layer2 = layer2"
   ]
  },
  {
   "cell_type": "markdown",
   "metadata": {},
   "source": [
    "И всё, начинаем использовать."
   ]
  },
  {
   "cell_type": "code",
   "execution_count": 8,
   "metadata": {},
   "outputs": [
    {
     "name": "stdout",
     "output_type": "stream",
     "text": [
      "Модель подбора идеального чая. Авторы: Шамиль Гаджиев и Клем Титов.\n",
      "Вывести API? [n/y] y\n",
      "\tМетоды:\n",
      "\t\ttrain(epochs, logEvery) - обучает нейронную сеть с заданным числом эпох\n",
      "\t\tgetResult(inputs_array, isRearranged) - получает вывод нейросети на входные данные\n",
      "\t\timode() - интерактивный режим ввода\n",
      "\t\tsetLayers(layer1, layer2) - загружает два обученных слоя нейросети.\n"
     ]
    }
   ],
   "source": [
    "model = TeaModel('Данные для чая.csv', 2)"
   ]
  },
  {
   "cell_type": "code",
   "execution_count": 9,
   "metadata": {},
   "outputs": [
    {
     "name": "stdout",
     "output_type": "stream",
     "text": [
      "Обучение сети.\n",
      "Эпоха 9999\n",
      "l1: \n",
      "[[0.26801273 0.19022116 0.84286507 0.61516936 0.13428518 0.68356973\n",
      "  0.87456929 0.69551665 0.03790894]\n",
      " [0.25949335 0.18726783 0.98307269 0.483999   0.0507261  0.80872159\n",
      "  0.73595749 0.73809897 0.19598661]\n",
      " [0.49973092 0.65043311 0.61975599 0.58424043 0.58081011 0.37374723\n",
      "  0.41750774 0.4555598  0.08015834]\n",
      " [0.19244913 0.05834132 0.99721829 0.39351857 0.00738552 0.95003014\n",
      "  0.95787627 0.86987292 0.0613195 ]\n",
      " [0.0766569  0.01761934 0.98261197 0.70570133 0.01858958 0.95151018\n",
      "  0.98841753 0.92261545 0.00432712]\n",
      " [0.70093131 0.56687275 0.94705982 0.29131986 0.11375955 0.49387866\n",
      "  0.8194662  0.29855289 0.51599009]\n",
      " [0.66688961 0.77187923 0.83375745 0.34110071 0.31447212 0.49748453\n",
      "  0.5078533  0.48307522 0.03733066]\n",
      " [0.44782643 0.11082381 0.93968179 0.50320217 0.09699243 0.69474041\n",
      "  0.97757513 0.38034134 0.77085245]\n",
      " [0.78320694 0.7904409  0.4378615  0.49803366 0.78488004 0.21928583\n",
      "  0.7151384  0.16391072 0.240635  ]]\n",
      "\n",
      "l2: \n",
      "[[9.92404061e-01 4.99931863e-01]\n",
      " [9.93080403e-01 7.99848686e-01]\n",
      " [5.23158392e-03 7.00015343e-01]\n",
      " [9.99757183e-01 5.00062698e-01]\n",
      " [9.99967569e-01 5.00068968e-01]\n",
      " [4.65264970e-03 9.00309701e-01]\n",
      " [5.70446176e-03 7.99923974e-01]\n",
      " [5.00089416e-01 8.99852726e-01]\n",
      " [1.14296004e-05 4.00009186e-01]]\n",
      "\n",
      "l1_delta: \n",
      "[[-6.52699964e-05 -5.99808022e-05  1.32767419e-05  3.07928874e-05\n",
      "  -3.71066691e-05  4.36688507e-05  2.29989743e-06  5.23139843e-05\n",
      "  -7.27851832e-06]\n",
      " [-5.25717937e-05 -4.69861983e-05  1.74218290e-06  3.07119258e-05\n",
      "  -1.38367286e-05  2.73445157e-05 -3.71672143e-06  3.87362624e-05\n",
      "  -2.10096674e-05]\n",
      " [ 3.98742758e-05  4.37085246e-05 -8.78634560e-06 -1.32644323e-05\n",
      "   3.43249975e-05 -2.14357333e-05 -6.72463449e-06 -2.97028092e-05\n",
      "   8.15239875e-06]\n",
      " [-7.04498546e-07 -1.27428856e-06 -9.23531560e-08 -5.52686805e-06\n",
      "   2.52011468e-07 -6.64078277e-07  2.29621697e-06  8.65997528e-07\n",
      "  -2.91470228e-06]\n",
      " [-3.26349277e-07 -4.33647916e-07 -6.26933540e-07 -5.31478725e-06\n",
      "   6.95602003e-07 -7.19542396e-07  7.15604762e-07  5.80558911e-07\n",
      "  -2.38766754e-07]\n",
      " [ 2.50464568e-05  2.83483478e-05 -4.17324422e-06 -1.66584557e-05\n",
      "   1.68776914e-05 -2.38256276e-05  1.03027779e-05 -1.73554602e-05\n",
      "   1.58856221e-06]\n",
      " [ 4.30557201e-05  4.43172495e-05 -1.42266998e-06 -9.24884498e-06\n",
      "   2.84916728e-05 -2.35901106e-05 -2.27070534e-05 -3.74213911e-05\n",
      "   6.56952971e-06]\n",
      " [ 3.34332202e-05  1.78316798e-05  1.84962802e-07 -5.30215661e-06\n",
      "   7.05496701e-06 -1.28927126e-05 -1.76266545e-06 -2.49418540e-05\n",
      "   2.50715371e-05]\n",
      " [-9.98387713e-08 -5.30328040e-07 -1.15493459e-06 -8.18154079e-07\n",
      "   8.23381965e-07 -3.41541729e-07  1.62815403e-06  1.42330697e-07\n",
      "  -1.29466031e-06]]\n",
      "\n",
      "l2_delta: \n",
      "[[ 5.72600119e-05  1.70341711e-05]\n",
      " [ 4.75495029e-05  2.42239581e-05]\n",
      " [-2.72262846e-05 -3.22187584e-06]\n",
      " [ 5.89458154e-08 -1.56745662e-05]\n",
      " [ 1.05170508e-09 -1.72420991e-05]\n",
      " [-2.15464326e-05 -2.77963217e-05]\n",
      " [-3.23552557e-05  1.21676907e-05]\n",
      " [-2.23539978e-05  1.32720307e-05]\n",
      " [-1.30634273e-10 -2.20470713e-06]]\n"
     ]
    }
   ],
   "source": [
    "model.train(logEvery = 10000)"
   ]
  },
  {
   "cell_type": "code",
   "execution_count": 10,
   "metadata": {},
   "outputs": [
    {
     "name": "stdout",
     "output_type": "stream",
     "text": [
      "[0.99988464 0.47309816]\n"
     ]
    }
   ],
   "source": [
    "print(model.getResult([0.9, 0.66, 0.478, 0.0, 1.0, 0.4]))"
   ]
  }
 ],
 "metadata": {
  "kernelspec": {
   "display_name": "Python 3",
   "language": "python",
   "name": "python3"
  },
  "language_info": {
   "codemirror_mode": {
    "name": "ipython",
    "version": 3
   },
   "file_extension": ".py",
   "mimetype": "text/x-python",
   "name": "python",
   "nbconvert_exporter": "python",
   "pygments_lexer": "ipython3",
   "version": "3.8.1"
  }
 },
 "nbformat": 4,
 "nbformat_minor": 2
}
